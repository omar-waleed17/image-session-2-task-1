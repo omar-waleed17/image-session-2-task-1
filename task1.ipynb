{
 "cells": [
  {
   "cell_type": "code",
   "execution_count": 54,
   "metadata": {},
   "outputs": [],
   "source": [
    "import cv2\n",
    "import matplotlib.pyplot as plt\n",
    "import numpy as np"
   ]
  },
  {
   "cell_type": "code",
   "execution_count": 68,
   "metadata": {},
   "outputs": [],
   "source": [
    "def get_range(color):\n",
    "    c=np.uint8([[color]])\n",
    "\n",
    "    hsvc = cv2.cvtColor(c,cv2.COLOR_BGR2HSV)\n",
    "\n",
    "    lowerlimt = max(0,hsvc[0][0][0]-35), max(0,hsvc[0][0][1] -105), max(0,hsvc[0][0][2] - 95)        # if value is negative set it to 0\n",
    "    upperlimt = min(255,hsvc[0][0][0]+35), min(255,hsvc[0][0][1] +95), min(255,hsvc[0][0][2] + 95)  # if value is over 255 set it to 255\n",
    "\n",
    "    lowerlimt = np.array(lowerlimt, dtype=np.uint8)\n",
    "    upperlimt = np.array(upperlimt, dtype=np.uint8)\n",
    "\n",
    "    return lowerlimt, upperlimt\n",
    "    "
   ]
  },
  {
   "cell_type": "code",
   "execution_count": 70,
   "metadata": {},
   "outputs": [],
   "source": [
    "def filter(frame):\n",
    "    blur=cv2.blur(frame,(11,11))\n",
    "    sigma=5\n",
    "    Gauss_blur=cv2.GaussianBlur(blur,(11,11),sigma)\n",
    "    Med_blur=cv2.medianBlur(Gauss_blur,9)\n",
    "    sharp_kernel=np.array([[-1,-1,-1],\n",
    "                 [-1,9,-1],\n",
    "                 [-1,-1,-1]])\n",
    "    sharpened_img=cv2.filter2D(Med_blur,-1,sharp_kernel)\n",
    "  \n",
    "\n",
    "    return sharpened_img"
   ]
  },
  {
   "cell_type": "code",
   "execution_count": 71,
   "metadata": {},
   "outputs": [
    {
     "name": "stderr",
     "output_type": "stream",
     "text": [
      "C:\\Users\\Omar\\AppData\\Local\\Temp\\ipykernel_27252\\2492855692.py:6: RuntimeWarning: overflow encountered in scalar subtract\n",
      "  lowerlimt = max(0,hsvc[0][0][0]-35), max(0,hsvc[0][0][1] -105), max(0,hsvc[0][0][2] - 95)        # if value is negative set it to 0\n"
     ]
    }
   ],
   "source": [
    "\n",
    "\n",
    "\n",
    "# Function to process video\n",
    "def process_video(video_path):\n",
    "    cap = cv2.VideoCapture(video_path)\n",
    "    color=[98,104,131]\n",
    "    if not cap.isOpened():\n",
    "        print(\"Error: Cannot open video\")\n",
    "        return\n",
    "    \n",
    "    while True:\n",
    "        ret, frame = cap.read()\n",
    "        if not ret :\n",
    "            break\n",
    "\n",
    "        edited_frame=filter(frame)\n",
    "      \n",
    "        lowerframe,upperframe=get_range(color)\n",
    "        edited_frame_hsv=cv2.cvtColor(edited_frame,cv2.COLOR_BGR2HSV)\n",
    "        mask=cv2.inRange(edited_frame_hsv,lowerframe,upperframe)\n",
    "        masked_frame=cv2.bitwise_and(edited_frame,edited_frame,mask=mask)\n",
    "        cv2.imshow(\"masked\",masked_frame)\n",
    "        cv2.imshow('video_edited', edited_frame)\n",
    "\n",
    "        # Press 'q' to exit early\n",
    "        if cv2.waitKey(40) & 0xFF == ord('q'):\n",
    "          break\n",
    "\n",
    "    cap.release()\n",
    "    cv2.destroyAllWindows()\n",
    "\n",
    "# Provide the path to your video file\n",
    "video_path = 'video.mp4'\n",
    "process_video(video_path)\n",
    "\n",
    "\n"
   ]
  }
 ],
 "metadata": {
  "kernelspec": {
   "display_name": "Python 3",
   "language": "python",
   "name": "python3"
  },
  "language_info": {
   "codemirror_mode": {
    "name": "ipython",
    "version": 3
   },
   "file_extension": ".py",
   "mimetype": "text/x-python",
   "name": "python",
   "nbconvert_exporter": "python",
   "pygments_lexer": "ipython3",
   "version": "3.12.4"
  }
 },
 "nbformat": 4,
 "nbformat_minor": 2
}
