{
 "cells": [
  {
   "cell_type": "code",
   "execution_count": 3,
   "metadata": {},
   "outputs": [],
   "source": [
    "import cv2\n",
    "import numpy as np\n",
    "\n",
    "def filter(frame):\n",
    "    blurred_frame = cv2.GaussianBlur(frame, (19, 19), 0)\n",
    "    frame_edges = cv2.subtract(frame, blurred_frame * 5)\n",
    "    sharpened_frame = cv2.add(frame, frame_edges)\n",
    "    return sharpened_frame\n",
    "\n",
    "# Function to get predefined orange color range\n",
    "def get_orange_range(frame):\n",
    "    # Orange HSV range (adjust if necessary)\n",
    "    edited_frame_hsv = cv2.cvtColor(frame, cv2.COLOR_BGR2HSV)\n",
    "    lower_limit = np.array([0, 100, 100], dtype=np.uint8)\n",
    "    upper_limit = np.array([15, 255, 255], dtype=np.uint8)\n",
    "  \n",
    "    # Create a mask for orange regions\n",
    "    mask = cv2.inRange(edited_frame_hsv, lower_limit, upper_limit)\n",
    "        \n",
    "    # Apply mask to extract orange regions\n",
    "    masked_frame = cv2.bitwise_and(frame, frame, mask=mask)  # Mask applied to the original BGR frame\n",
    "    return masked_frame\n",
    "\n",
    "# Function to process video and extract orange color\n",
    "def process_video(video_path):\n",
    "    cap = cv2.VideoCapture(video_path)\n",
    "\n",
    "    if not cap.isOpened():\n",
    "        print(\"Error: Cannot open video\")\n",
    "        return\n",
    "    \n",
    "    while True:\n",
    "        ret, frame = cap.read()\n",
    "        if not ret:\n",
    "            break\n",
    "\n",
    "        # Apply filter\n",
    "        filtered_frame = filter(frame)\n",
    "        \n",
    "        # Apply orange color extraction on the filtered frame\n",
    "        orange_frame = get_orange_range(filtered_frame)\n",
    "\n",
    "        # Show the orange-filtered frame\n",
    "        cv2.imshow('orange', orange_frame)\n",
    "      \n",
    "        # Press 'q' to exit early\n",
    "        if cv2.waitKey(40) & 0xFF == ord('q'):\n",
    "            break\n",
    "\n",
    "    cap.release()\n",
    "    cv2.destroyAllWindows()\n",
    "\n",
    "# Provide the path to your video file\n",
    "video_path = 'video.mp4'\n",
    "process_video(video_path)\n"
   ]
  },
  {
   "cell_type": "code",
   "execution_count": null,
   "metadata": {},
   "outputs": [],
   "source": []
  }
 ],
 "metadata": {
  "kernelspec": {
   "display_name": "Python 3",
   "language": "python",
   "name": "python3"
  },
  "language_info": {
   "codemirror_mode": {
    "name": "ipython",
    "version": 3
   },
   "file_extension": ".py",
   "mimetype": "text/x-python",
   "name": "python",
   "nbconvert_exporter": "python",
   "pygments_lexer": "ipython3",
   "version": "3.12.4"
  }
 },
 "nbformat": 4,
 "nbformat_minor": 2
}
